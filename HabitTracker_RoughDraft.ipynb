{
 "cells": [
  {
   "cell_type": "code",
   "execution_count": 5,
   "metadata": {},
   "outputs": [
    {
     "name": "stdout",
     "output_type": "stream",
     "text": [
      " * Serving Flask app '__main__'\n",
      " * Debug mode: on\n"
     ]
    },
    {
     "name": "stderr",
     "output_type": "stream",
     "text": [
      "WARNING: This is a development server. Do not use it in a production deployment. Use a production WSGI server instead.\n",
      " * Running on http://127.0.0.1:5000\n",
      "Press CTRL+C to quit\n",
      " * Restarting with stat\n"
     ]
    },
    {
     "ename": "SystemExit",
     "evalue": "1",
     "output_type": "error",
     "traceback": [
      "An exception has occurred, use %tb to see the full traceback.\n",
      "\u001b[1;31mSystemExit\u001b[0m\u001b[1;31m:\u001b[0m 1\n"
     ]
    }
   ],
   "source": [
    "\n",
    "import os\n",
    "import pandas as pd\n",
    "#import plotly\n",
    "import flask\n",
    "from flask import Flask, render_template, request, redirect, url_for\n",
    "\n",
    "\n",
    "\n",
    "\n",
    "#The basic outlines of the Habit Tracker.\n",
    "\n",
    "app = Flask(__name__)\n",
    "\n",
    "\n",
    "        \n",
    "def checkLogin(username, password):\n",
    "    data=pd.read_csv(\"logins.csv\")\n",
    "    return ((data['username']==username) & (data['password']==password)).any()\n",
    "        \n",
    "@app.route('/', methods =[\"Get\", \"Post\"])    \n",
    "def login():\n",
    "    if request.method == 'Post':\n",
    "        username = request.form['username']\n",
    "        password = request.form['password']\n",
    "        if checkLogin(username, password):\n",
    "            return redirect(url_for('dashboard'))\n",
    "        else:\n",
    "            return \"Login failed. Try again.\"\n",
    "    return render_template('login.html')\n",
    "\n",
    "\n",
    "@app.route('/tracker', methods=['Get', 'Post'])\n",
    "def tracker_Default():\n",
    "    if request.method == 'Post':\n",
    "        water_intake = request.form['water_intake'] == True\n",
    "        exercise_completed = request.form['exercise_completed'] == True\n",
    "        exercise_completed2= request.form['exercise_completed'] == True\n",
    "        exercise_outside=request.form['exercie_outside']==True\n",
    "        diet_followed = request.form['diet_followed'] == True\n",
    "        read_pages = request.form['read_pages'] == True\n",
    "        track_habits(water_intake, exercise_completed, exercise_completed2,exercise_outside,diet_followed,read_pages)\n",
    "        return redirect(url_for('dashboard'))\n",
    "    return render_template('tracker.html')\n",
    "\n",
    "\n",
    "def track_habits_Default(water_intake, exercise_completed, exercise_completed2,exercise_outside,diet_followed,read_pages):\n",
    "    df = pd.read_csv('habits.csv')\n",
    "    \n",
    "    new_entry = {'Date': pd.Timestamp.today(), 'Water': water_intake, 'Exercise': exercise_completed, 'Excerise2':exercise_completed2, 'Outside': exercise_outside, 'Diet':diet_followed,'Read':read_pages}\n",
    "    df = df.append(new_entry, ignore_index=True)\n",
    "    df.to_csv('habits.csv', index=False)\n",
    "    \n",
    "def checkpreviousday():\n",
    "\n",
    "    \n",
    "    \n",
    "def current_streak():\n",
    "    df = pd.read_csv('habits.csv')\n",
    "    \n",
    "    streak = 0\n",
    "    for _, row in df.iterrows():\n",
    "        if row['Water'] >= 2000 and row['Exercise']:\n",
    "            streak += 1\n",
    "        else:\n",
    "            streak = 0\n",
    "    return streak\n",
    "\n",
    "\n",
    "\n",
    "\n",
    "\n",
    "@app.route('/settings', methods=['GET', 'POST'])\n",
    "def settings():\n",
    "    if request.method == 'POST':\n",
    "        water_goal = request.form['water_goal']\n",
    "        protein_goal = request.form['protein_goal']\n",
    "        save_settings(water_goal, protein_goal)\n",
    "        return redirect(url_for('dashboard'))\n",
    "    return render_template('settings.html')\n",
    "\n",
    "def save_settings(water_goal, protein_goal):\n",
    "    settings = {'Water Goal': water_goal, 'Protein Goal': protein_goal}\n",
    "    df = pd.DataFrame([settings])\n",
    "    df.to_csv('settings.csv', index=False)\n",
    "\n",
    "# Settings HTML Template (settings.html)\n",
    "\n",
    "    \n",
    "if __name__ == '__main__':\n",
    "    app.run(debug=True)\n",
    "\n",
    "\n"
   ]
  }
 ],
 "metadata": {
  "kernelspec": {
   "display_name": "Python 3",
   "language": "python",
   "name": "python3"
  },
  "language_info": {
   "codemirror_mode": {
    "name": "ipython",
    "version": 3
   },
   "file_extension": ".py",
   "mimetype": "text/x-python",
   "name": "python",
   "nbconvert_exporter": "python",
   "pygments_lexer": "ipython3",
   "version": "3.12.1"
  }
 },
 "nbformat": 4,
 "nbformat_minor": 2
}
